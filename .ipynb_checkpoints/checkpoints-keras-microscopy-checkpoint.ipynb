{
 "cells": [
  {
   "cell_type": "code",
   "execution_count": 1,
   "id": "d3a6b9d0",
   "metadata": {},
   "outputs": [],
   "source": [
    "from matplotlib import pyplot as plt\n",
    "from keras.preprocessing.image import ImageDataGenerator\n",
    "from keras.models import Sequential\n",
    "from keras.layers import Conv2D, MaxPooling2D\n",
    "from keras.layers import Activation, Dropout, Flatten, Dense\n",
    "from tensorflow.keras.utils import  img_to_array,  load_img"
   ]
  },
  {
   "cell_type": "code",
   "execution_count": 2,
   "id": "8d7f859c",
   "metadata": {},
   "outputs": [],
   "source": [
    "SIZE = 150\n",
    "###2 conv and pool layers. with some normalization and drops in between.\n",
    "\n",
    "INPUT_SHAPE = (SIZE, SIZE, 3)   #change to (SIZE, SIZE, 3)"
   ]
  },
  {
   "cell_type": "code",
   "execution_count": 3,
   "id": "b96b8c13",
   "metadata": {},
   "outputs": [
    {
     "name": "stdout",
     "output_type": "stream",
     "text": [
      "Model: \"sequential\"\n",
      "_________________________________________________________________\n",
      " Layer (type)                Output Shape              Param #   \n",
      "=================================================================\n",
      " conv2d (Conv2D)             (None, 148, 148, 32)      896       \n",
      "                                                                 \n",
      " activation (Activation)     (None, 148, 148, 32)      0         \n",
      "                                                                 \n",
      " max_pooling2d (MaxPooling2D  (None, 74, 74, 32)       0         \n",
      " )                                                               \n",
      "                                                                 \n",
      " conv2d_1 (Conv2D)           (None, 72, 72, 32)        9248      \n",
      "                                                                 \n",
      " activation_1 (Activation)   (None, 72, 72, 32)        0         \n",
      "                                                                 \n",
      " max_pooling2d_1 (MaxPooling  (None, 36, 36, 32)       0         \n",
      " 2D)                                                             \n",
      "                                                                 \n",
      " conv2d_2 (Conv2D)           (None, 34, 34, 64)        18496     \n",
      "                                                                 \n",
      " activation_2 (Activation)   (None, 34, 34, 64)        0         \n",
      "                                                                 \n",
      " max_pooling2d_2 (MaxPooling  (None, 17, 17, 64)       0         \n",
      " 2D)                                                             \n",
      "                                                                 \n",
      " flatten (Flatten)           (None, 18496)             0         \n",
      "                                                                 \n",
      " dense (Dense)               (None, 64)                1183808   \n",
      "                                                                 \n",
      " activation_3 (Activation)   (None, 64)                0         \n",
      "                                                                 \n",
      " dropout (Dropout)           (None, 64)                0         \n",
      "                                                                 \n",
      " dense_1 (Dense)             (None, 1)                 65        \n",
      "                                                                 \n",
      " activation_4 (Activation)   (None, 1)                 0         \n",
      "                                                                 \n",
      "=================================================================\n",
      "Total params: 1,212,513\n",
      "Trainable params: 1,212,513\n",
      "Non-trainable params: 0\n",
      "_________________________________________________________________\n",
      "None\n"
     ]
    }
   ],
   "source": [
    "model = Sequential()\n",
    "model.add(Conv2D(32, (3, 3), input_shape=INPUT_SHAPE))\n",
    "model.add(Activation('relu'))\n",
    "model.add(MaxPooling2D(pool_size=(2, 2)))\n",
    "\n",
    "model.add(Conv2D(32, (3, 3)))\n",
    "model.add(Activation('relu'))\n",
    "model.add(MaxPooling2D(pool_size=(2, 2)))\n",
    "\n",
    "model.add(Conv2D(64, (3, 3)))\n",
    "model.add(Activation('relu'))\n",
    "model.add(MaxPooling2D(pool_size=(2, 2)))\n",
    "\n",
    "model.add(Flatten())\n",
    "model.add(Dense(64))\n",
    "model.add(Activation('relu'))\n",
    "model.add(Dropout(0.5))\n",
    "model.add(Dense(1))\n",
    "model.add(Activation('sigmoid'))\n",
    "\n",
    "model.compile(loss='binary_crossentropy',\n",
    "              optimizer='rmsprop',\n",
    "              metrics=['accuracy'])\n",
    "\n",
    "print(model.summary())"
   ]
  },
  {
   "cell_type": "code",
   "execution_count": 4,
   "id": "66dd453d",
   "metadata": {},
   "outputs": [],
   "source": [
    "batch_size = 10\n",
    "# 16"
   ]
  },
  {
   "cell_type": "code",
   "execution_count": 5,
   "id": "4714eb58",
   "metadata": {},
   "outputs": [],
   "source": [
    "#Let's prepare our data. We will use .flow_from_directory()\n",
    "#to generate batches of image data (and their labels)\n",
    "#directly from our png in their respective folders.\n",
    "\n",
    "# this is the augmentation configuration we will use for training\n",
    "train_datagen = ImageDataGenerator(\n",
    "        rescale=1./255,\n",
    "        rotation_range=45,\n",
    "        shear_range=0.2,\n",
    "        zoom_range=0.2,\n",
    "        horizontal_flip=True)\n",
    "validation_datagen = ImageDataGenerator(rescale=1./255)"
   ]
  },
  {
   "cell_type": "code",
   "execution_count": 6,
   "id": "33b3bfbe",
   "metadata": {},
   "outputs": [
    {
     "name": "stdout",
     "output_type": "stream",
     "text": [
      "Found 5600 images belonging to 2 classes.\n"
     ]
    }
   ],
   "source": [
    "# this is a generator that will read pictures found in\n",
    "# subfolers of 'data/train', and indefinitely generate\n",
    "# batches of augmented image data\n",
    "train_generator = train_datagen.flow_from_directory(\n",
    "        'data/cell_images/train',  # this is the input directory\n",
    "        target_size=(150, 150),  # all images will be resized to 64x64\n",
    "        batch_size=batch_size,\n",
    "        class_mode='binary')  # since we use binary_crossentropy loss, we need binary labels"
   ]
  },
  {
   "cell_type": "code",
   "execution_count": 7,
   "id": "d7885a76",
   "metadata": {},
   "outputs": [
    {
     "name": "stdout",
     "output_type": "stream",
     "text": [
      "Found 100 images belonging to 2 classes.\n"
     ]
    }
   ],
   "source": [
    "# this is a similar generator, for validation data\n",
    "validation_generator = validation_datagen.flow_from_directory(\n",
    "        'data/cell_images/test',\n",
    "        target_size=(150, 150),\n",
    "        batch_size=batch_size,\n",
    "        class_mode='binary')"
   ]
  },
  {
   "cell_type": "code",
   "execution_count": 8,
   "id": "51833e88",
   "metadata": {},
   "outputs": [],
   "source": [
    "#Add Callbacks, e.g. ModelCheckpoints, earlystopping, csvlogger.\n",
    "from keras.callbacks import ModelCheckpoint, EarlyStopping, CSVLogger"
   ]
  },
  {
   "cell_type": "code",
   "execution_count": 9,
   "id": "e11545d4",
   "metadata": {},
   "outputs": [],
   "source": [
    "#ModelCheckpoint callback saves a model at some interval.\n",
    "filepath=\"saved_models/jupnote_model.{epoch:02d}-{val_accuracy:.2f}.h5\" #File name includes epoch and validation accuracy.\n",
    "# filepath = \"saved_models/weights-improvement-{epoch:02d}-{val_acc:.2f}.hdf5\"  # File name includes epoch and validation accuracy.\n",
    "# filepath=\"data/saved_models/weights-improvement.hdf5\" #File name includes epoch and validation accuracy.\n",
    "#Use Mode = max for accuracy and min for loss.\n",
    "checkpoint = ModelCheckpoint(filepath, monitor=\"val_accuracy\", verbose=1, save_best_only=True, mode='max')"
   ]
  },
  {
   "cell_type": "code",
   "execution_count": 10,
   "id": "963f5da7",
   "metadata": {},
   "outputs": [],
   "source": [
    "callbacks_list = [checkpoint]"
   ]
  },
  {
   "cell_type": "code",
   "execution_count": 11,
   "id": "639b27da",
   "metadata": {},
   "outputs": [
    {
     "name": "stdout",
     "output_type": "stream",
     "text": [
      "Epoch 1/6\n",
      "200/200 [==============================] - ETA: 0s - loss: 0.3903 - accuracy: 0.8310\n",
      "Epoch 1: val_accuracy improved from -inf to 0.68000, saving model to saved_models\\jupnote_model.01-0.68.h5\n",
      "200/200 [==============================] - 32s 158ms/step - loss: 0.3903 - accuracy: 0.8310 - val_loss: 1.2312 - val_accuracy: 0.6800\n",
      "Epoch 2/6\n",
      "200/200 [==============================] - ETA: 0s - loss: 0.3109 - accuracy: 0.9845\n",
      "Epoch 2: val_accuracy did not improve from 0.68000\n",
      "200/200 [==============================] - 32s 159ms/step - loss: 0.3109 - accuracy: 0.9845 - val_loss: 2.4402 - val_accuracy: 0.6400\n",
      "Epoch 3/6\n",
      "200/200 [==============================] - ETA: 0s - loss: 0.0445 - accuracy: 0.9970\n",
      "Epoch 3: val_accuracy did not improve from 0.68000\n",
      "200/200 [==============================] - 32s 158ms/step - loss: 0.0445 - accuracy: 0.9970 - val_loss: 3.4237 - val_accuracy: 0.6400\n",
      "Epoch 4/6\n",
      "200/200 [==============================] - ETA: 0s - loss: 0.2277 - accuracy: 0.9850\n",
      "Epoch 4: val_accuracy did not improve from 0.68000\n",
      "200/200 [==============================] - 32s 159ms/step - loss: 0.2277 - accuracy: 0.9850 - val_loss: 3.0391 - val_accuracy: 0.6000\n",
      "Epoch 5/6\n",
      "200/200 [==============================] - ETA: 0s - loss: 0.1240 - accuracy: 0.9950\n",
      "Epoch 5: val_accuracy improved from 0.68000 to 0.72000, saving model to saved_models\\jupnote_model.05-0.72.h5\n",
      "200/200 [==============================] - 32s 159ms/step - loss: 0.1240 - accuracy: 0.9950 - val_loss: 3.9511 - val_accuracy: 0.7200\n",
      "Epoch 6/6\n",
      "200/200 [==============================] - ETA: 0s - loss: 0.0770 - accuracy: 0.9985\n",
      "Epoch 6: val_accuracy did not improve from 0.72000\n",
      "200/200 [==============================] - 32s 159ms/step - loss: 0.0770 - accuracy: 0.9985 - val_loss: 7.0674 - val_accuracy: 0.6400\n"
     ]
    }
   ],
   "source": [
    "#We can now use these generators to train our model.\n",
    "#Give this a name so we can call it later for plotting loss, accuracy etc. as a function of epochs.\n",
    "history = model.fit(\n",
    "        train_generator,\n",
    "        # training_base,\n",
    "        steps_per_epoch=2000 // batch_size,\n",
    "        # steps_per_epoch=15,\n",
    "        # steps_per_epoch=2000 // batch_size,    #The 2 slashes division return rounded integer\n",
    "        epochs=6,\n",
    "        # validation_data=test_base,\n",
    "        validation_data=validation_generator,\n",
    "        # validation_steps=1,\n",
    "        # validation_steps=800 // batch_size,\n",
    "        callbacks=callbacks_list)\n",
    "model.save('malaria_augmented_model.h5')  # always save your weights after training or during training\n"
   ]
  },
  {
   "cell_type": "code",
   "execution_count": 12,
   "id": "48ee3f85",
   "metadata": {},
   "outputs": [
    {
     "name": "stdout",
     "output_type": "stream",
     "text": [
      "15/15 [==============================] - 1s 66ms/step - loss: 6.2471e-12 - accuracy: 1.0000\n",
      "10/10 [==============================] - 0s 30ms/step - loss: 7.0674 - accuracy: 0.6400\n",
      "Train: 1.000, Test: 0.640\n"
     ]
    }
   ],
   "source": [
    "train_loss, train_acc = model.evaluate(train_generator, steps=15)\n",
    "validation_loss, test_acc = model.evaluate(validation_generator, steps=10)\n",
    "\n",
    "print('Train: %.3f, Test: %.3f' % (train_acc, test_acc))"
   ]
  },
  {
   "cell_type": "code",
   "execution_count": 13,
   "id": "b5792674",
   "metadata": {},
   "outputs": [
    {
     "name": "stdout",
     "output_type": "stream",
     "text": [
      "Values stored in history are ... \n",
      " {'loss': [0.3902660310268402, 0.31092673540115356, 0.04448714107275009, 0.2276533544063568, 0.12401346117258072, 0.07700173556804657], 'accuracy': [0.8309999704360962, 0.984499990940094, 0.996999979019165, 0.9850000143051147, 0.9950000047683716, 0.9984999895095825], 'val_loss': [1.2312167882919312, 2.440214157104492, 3.4236605167388916, 3.0391499996185303, 3.9510796070098877, 7.067399978637695], 'val_accuracy': [0.6800000071525574, 0.6399999856948853, 0.6399999856948853, 0.6000000238418579, 0.7200000286102295, 0.6399999856948853]}\n"
     ]
    },
    {
     "data": {
      "image/png": "[encoded data removed]",
      "text/plain": [
       "<Figure size 432x288 with 1 Axes>"
      ]
     },
     "metadata": {
      "needs_background": "light"
     },
     "output_type": "display_data"
    }
   ],
   "source": [
    "print(\"Values stored in history are ... \\n\", history.history)\n",
    "plt.plot(history.history['loss'], label='train')\n",
    "plt.plot(history.history['val_loss'], label='test')\n",
    "plt.legend()\n",
    "plt.show()"
   ]
  },
  {
   "cell_type": "code",
   "execution_count": null,
   "id": "7bbd8fff",
   "metadata": {},
   "outputs": [],
   "source": []
  }
 ],
 "metadata": {
  "kernelspec": {
   "display_name": "Python 3 (ipykernel)",
   "language": "python",
   "name": "python3"
  },
  "language_info": {
   "codemirror_mode": {
    "name": "ipython",
    "version": 3
   },
   "file_extension": ".py",
   "mimetype": "text/x-python",
   "name": "python",
   "nbconvert_exporter": "python",
   "pygments_lexer": "ipython3",
   "version": "3.9.12"
  }
 },
 "nbformat": 4,
 "nbformat_minor": 5
}
